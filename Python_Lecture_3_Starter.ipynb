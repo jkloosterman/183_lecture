{
  "nbformat": 4,
  "nbformat_minor": 0,
  "metadata": {
    "colab": {
      "name": "Python Lecture 3 Starter.ipynb",
      "version": "0.3.2",
      "provenance": [],
      "collapsed_sections": []
    },
    "kernelspec": {
      "name": "python3",
      "display_name": "Python 3"
    }
  },
  "cells": [
    {
      "metadata": {
        "id": "jvrmLlozKyCh",
        "colab_type": "code",
        "colab": {
          "base_uri": "https://localhost:8080/",
          "height": 35
        },
        "outputId": "84288819-fc7e-4b6d-b4f1-e42c1d6480d2"
      },
      "cell_type": "code",
      "source": [
        "# Starter code for EECS 183 Python Lecture 3\n",
        "import matplotlib.pyplot as plt\n",
        "import urllib\n",
        "import json\n",
        "\n",
        "data = {}\n",
        "\n",
        "# Requires: url is a string containing a URL to a JSON file\n",
        "# Modifies: data\n",
        "# Effects:  Fetches the JSON file from url, decodes it, and\n",
        "#           stores the result in data\n",
        "def load_data(url):\n",
        "    global data\n",
        "    url_fp = urllib.request.urlopen(url)\n",
        "    data = json.loads(url_fp.read())\n",
        "\n",
        "# Requires: nothing\n",
        "# Modifies: data\n",
        "# Effects:  Loads a small (6 user)video recommendation dataset into data\n",
        "def load_small_data():\n",
        "    load_data(\"https://tinyurl.com/183data2\")\n",
        "    print(\"Small dataset loaded.\")\n",
        "\n",
        "# Requires: nothing\n",
        "# Modifies: data\n",
        "# Effects:  Loads a large (100 user) video recommendation dataset into data\n",
        "def load_large_data():\n",
        "    load_data(\"https://tinyurl.com/183data3\")\n",
        "    print(\"Large dataset loaded.\")    \n",
        "\n",
        "# Requires: history1 and history2 are lists of the same lenght\n",
        "# Modifies: nothing\n",
        "# Effects:  Returns the number of entries for which history1 and history2\n",
        "#           contain the same value\n",
        "def similarity(history1, history2):\n",
        "    score = 0\n",
        "    for i in range(len(history1)):\n",
        "        if history1[i] == history2[i]:\n",
        "            score += 1\n",
        "    return score\n",
        "\n",
        "# Requires: similarities is a square 2D list, len(labels) == len(similarities)\n",
        "# Modifies: nothing\n",
        "# Effects:  Charts a heatmap of similarities using matplotlib.\n",
        "#           If len(similarities) < 50, adds the labels in labels\n",
        "#           to the x and y axes.\n",
        "def graph_2d_similarities(similarities, labels):\n",
        "    fig, ax = plt.subplots()\n",
        "    fig.set_dpi(100)\n",
        "    plt.imshow(similarities, cmap='jet')\n",
        "    cbar = plt.colorbar()\n",
        "    cbar.ax.set_ylabel(\"Similarity Score\", rotation=-90, va=\"bottom\")\n",
        "    \n",
        "    if len(labels) < 20:\n",
        "        ax.set_xticks(range(len(labels)))\n",
        "        ax.set_yticks(range(len(labels)))\n",
        "        ax.set_xticklabels(labels)\n",
        "        ax.set_yticklabels(labels)\n",
        "    plt.show()\n",
        "\n",
        "load_small_data()"
      ],
      "execution_count": 1,
      "outputs": [
        {
          "output_type": "stream",
          "text": [
            "Small dataset loaded.\n"
          ],
          "name": "stdout"
        }
      ]
    },
    {
      "metadata": {
        "id": "sjXnTctCHQnN",
        "colab_type": "code",
        "colab": {}
      },
      "cell_type": "code",
      "source": [
        ""
      ],
      "execution_count": 0,
      "outputs": []
    }
  ]
}